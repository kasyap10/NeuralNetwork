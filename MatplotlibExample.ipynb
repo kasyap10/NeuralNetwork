{
 "cells": [
  {
   "cell_type": "code",
   "execution_count": 70,
   "metadata": {},
   "outputs": [
    {
     "name": "stdout",
     "output_type": "stream",
     "text": [
      "[array([[ 0.,  1.],\n       [ 1.,  0.],\n       [ 1.,  1.]]), array([[ 0.,  0.],\n       [ 0.,  0.],\n       [ 0.,  0.]]), array([[ 0.17198269,  0.90167554,  0.        ],\n       [ 0.17198269,  0.90167554,  0.        ],\n       [ 0.17198269,  0.90167554,  0.        ]])]\nBiases:\n[array([-0.49115158, -1.13978341]), array([ 0.17198269,  0.90167554, -1.31386555])]\n[array([1, 2, 3]), array([ 0.,  0.]), array([ 0.        ,  0.        ,  2.76882901])]\n"
     ]
    }
   ],
   "source": [
    "import importlib.util\n",
    "import numpy as np\n",
    "spec = importlib.util.spec_from_file_location(\"Net.py\", \"Net.py\")\n",
    "Net = importlib.util.module_from_spec(spec)\n",
    "spec.loader.exec_module(Net)\n",
    "n = Net.NeuralNetwork([3,2,3])\n",
    "inputs = np.array([1,2,3])#,[4.0,5.0,6.0],[7.0,8.0,9.0]])\n",
    "print(n.run(inputs))"
   ]
  },
  {
   "cell_type": "code",
   "execution_count": 2,
   "metadata": {},
   "outputs": [
    {
     "ename": "TypeError",
     "evalue": "Required argument 'object' (pos 1) not found",
     "output_type": "error",
     "traceback": [
      "\u001b[1;31m---------------------------------------------------------------------------\u001b[0m",
      "\u001b[1;31mTypeError\u001b[0m                                 Traceback (most recent call last)",
      "\u001b[1;32m<ipython-input-2-2ef14c52f75c>\u001b[0m in \u001b[0;36m<module>\u001b[1;34m()\u001b[0m\n\u001b[0;32m      1\u001b[0m \u001b[1;32mimport\u001b[0m \u001b[0mnumpy\u001b[0m \u001b[1;32mas\u001b[0m \u001b[0mnp\u001b[0m\u001b[1;33m\u001b[0m\u001b[0m\n\u001b[1;32m----> 2\u001b[1;33m \u001b[0mdel_b\u001b[0m \u001b[1;33m=\u001b[0m \u001b[0mnp\u001b[0m\u001b[1;33m.\u001b[0m\u001b[0marray\u001b[0m\u001b[1;33m(\u001b[0m\u001b[1;33m)\u001b[0m\u001b[1;33m\u001b[0m\u001b[0m\n\u001b[0m",
      "\u001b[1;31mTypeError\u001b[0m: Required argument 'object' (pos 1) not found"
     ]
    }
   ],
   "source": [
    "import numpy as np\n",
    "del_b = np.array()"
   ]
  },
  {
   "cell_type": "code",
   "execution_count": null,
   "metadata": {},
   "outputs": [],
   "source": [
    ""
   ]
  }
 ],
 "metadata": {},
 "nbformat": 4,
 "nbformat_minor": 0
}