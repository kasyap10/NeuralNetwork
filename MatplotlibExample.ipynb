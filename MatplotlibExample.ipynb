{
 "cells": [
  {
   "cell_type": "code",
   "execution_count": 70,
   "metadata": {},
   "outputs": [
    {
     "name": "stdout",
     "output_type": "stream",
     "text": [
      "[array([[ 0.,  1.],\n       [ 1.,  0.],\n       [ 1.,  1.]]), array([[ 0.,  0.],\n       [ 0.,  0.],\n       [ 0.,  0.]]), array([[ 0.17198269,  0.90167554,  0.        ],\n       [ 0.17198269,  0.90167554,  0.        ],\n       [ 0.17198269,  0.90167554,  0.        ]])]\nBiases:\n[array([-0.49115158, -1.13978341]), array([ 0.17198269,  0.90167554, -1.31386555])]\n[array([1, 2, 3]), array([ 0.,  0.]), array([ 0.        ,  0.        ,  2.76882901])]\n"
     ]
    }
   ],
   "source": [
    "import importlib.util\n",
    "import numpy as np\n",
    "spec = importlib.util.spec_from_file_location(\"Net.py\", \"Net.py\")\n",
    "Net = importlib.util.module_from_spec(spec)\n",
    "spec.loader.exec_module(Net)\n",
    "n = Net.NeuralNetwork([3,2,3])\n",
    "inputs = np.array([1,2,3])#,[4.0,5.0,6.0],[7.0,8.0,9.0]])\n",
    "print(n.run(inputs))"
   ]
  },
  {
   "cell_type": "code",
   "execution_count": 75,
   "metadata": {},
   "outputs": [
    {
     "name": "stdout",
     "output_type": "stream",
     "text": [
      "[[1 3]\n [2 4]]\n"
     ]
    }
   ],
   "source": [
    "x = np.array([[1,2],[3,4]])\n",
    "print(x.transpose())"
   ]
  },
  {
   "cell_type": "code",
   "execution_count": null,
   "metadata": {},
   "outputs": [],
   "source": [
    ""
   ]
  }
 ],
 "metadata": {},
 "nbformat": 4,
 "nbformat_minor": 0
}